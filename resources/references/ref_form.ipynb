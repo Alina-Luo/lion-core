{
 "cells": [
  {
   "cell_type": "code",
   "execution_count": 1,
   "metadata": {},
   "outputs": [],
   "source": [
    "from lion_core.form.form import Form"
   ]
  },
  {
   "cell_type": "code",
   "execution_count": 2,
   "metadata": {},
   "outputs": [
    {
     "data": {
      "text/plain": [
       "{'ln_id': 'lndbf9a522c-2-c91-32caf8620-758bfd',\n",
       " 'timestamp': 1723232057.642702,\n",
       " 'metadata': {'last_updated': {'input1': 1723232057.6429,\n",
       "   'input2': 1723232057.642937,\n",
       "   'output': 1723232057.642961}},\n",
       " 'embedding': [],\n",
       " 'assignment': 'input1, input2 -> output',\n",
       " 'template_name': 'default_form',\n",
       " 'output_fields': ['output'],\n",
       " 'none_as_valid_value': True,\n",
       " 'strict': False,\n",
       " 'input_fields': ['input1', 'input2'],\n",
       " 'request_fields': ['output'],\n",
       " 'task': '',\n",
       " 'task_description': '',\n",
       " 'strict_assignment': False,\n",
       " 'input1': 3,\n",
       " 'lion_class': 'Form'}"
      ]
     },
     "execution_count": 2,
     "metadata": {},
     "output_type": "execute_result"
    }
   ],
   "source": [
    "# correct, input value was taken, output value was ignored at init\n",
    "form1 = Form(assignment='input1, input2 -> output', input1=3, none_as_valid_value=True, output=4)\n",
    "d1 = form1.to_dict(valid_only=True)\n",
    "d1"
   ]
  },
  {
   "cell_type": "code",
   "execution_count": 3,
   "metadata": {},
   "outputs": [
    {
     "data": {
      "text/plain": [
       "True"
      ]
     },
     "execution_count": 3,
     "metadata": {},
     "output_type": "execute_result"
    }
   ],
   "source": [
    "form2 = Form.from_dict(d1)\n",
    "form1.ln_id == form2.ln_id"
   ]
  },
  {
   "cell_type": "code",
   "execution_count": 4,
   "metadata": {},
   "outputs": [
    {
     "data": {
      "text/plain": [
       "['input1', 'input2', 'output']"
      ]
     },
     "execution_count": 4,
     "metadata": {},
     "output_type": "execute_result"
    }
   ],
   "source": [
    "form1.work_fields == form2.work_fields\n",
    "form1.work_fields"
   ]
  },
  {
   "cell_type": "code",
   "execution_count": 5,
   "metadata": {},
   "outputs": [
    {
     "data": {
      "text/plain": [
       "['input1', 'input2', 'output']"
      ]
     },
     "execution_count": 5,
     "metadata": {},
     "output_type": "execute_result"
    }
   ],
   "source": [
    "form1.required_fields"
   ]
  },
  {
   "cell_type": "code",
   "execution_count": 6,
   "metadata": {},
   "outputs": [
    {
     "data": {
      "text/plain": [
       "['output']"
      ]
     },
     "execution_count": 6,
     "metadata": {},
     "output_type": "execute_result"
    }
   ],
   "source": [
    "form1.output_fields"
   ]
  },
  {
   "cell_type": "code",
   "execution_count": 7,
   "metadata": {},
   "outputs": [
    {
     "data": {
      "text/plain": [
       "''"
      ]
     },
     "execution_count": 7,
     "metadata": {},
     "output_type": "execute_result"
    }
   ],
   "source": [
    "form1.task"
   ]
  },
  {
   "cell_type": "code",
   "execution_count": 8,
   "metadata": {},
   "outputs": [
    {
     "name": "stdout",
     "output_type": "stream",
     "text": [
      "missing input fields:  ['input2']\n"
     ]
    }
   ],
   "source": [
    "from lion_core.libs import as_readable_json\n",
    "\n",
    "if form1.is_workable():\n",
    "    print(as_readable_json(form1.instruction_dict))\n",
    "else:\n",
    "    print(\"missing input fields: \", form1.check_is_workable(handle_how=\"return_missing\"))"
   ]
  },
  {
   "cell_type": "code",
   "execution_count": 9,
   "metadata": {},
   "outputs": [],
   "source": [
    "form1.append_to_input(\"input3\", 5)\n",
    "form1.append_to_output(\"output2\", 6)\n",
    "form1.append_to_request(\"hello\")"
   ]
  },
  {
   "cell_type": "code",
   "execution_count": 10,
   "metadata": {},
   "outputs": [
    {
     "data": {
      "text/plain": [
       "['output', 'hello']"
      ]
     },
     "execution_count": 10,
     "metadata": {},
     "output_type": "execute_result"
    }
   ],
   "source": [
    "form1.request_fields"
   ]
  },
  {
   "cell_type": "code",
   "execution_count": 11,
   "metadata": {},
   "outputs": [
    {
     "data": {
      "text/plain": [
       "{'ln_id': FieldInfo(annotation=str, required=False, default_factory=id, alias_priority=2, validation_alias=AliasChoices(choices=['id', 'id_', 'ID', 'ID_']), title='Lion ID', description='Unique identifier for the element', frozen=True),\n",
       " 'timestamp': FieldInfo(annotation=float, required=False, default_factory=<lambda>, alias='created', alias_priority=2, title='Creation Timestamp', frozen=True),\n",
       " 'metadata': FieldInfo(annotation=Note, required=False, default_factory=Note, description='Additional metadata for the component'),\n",
       " 'content': FieldInfo(annotation=Any, required=False, default=None, description='The main content of the Component'),\n",
       " 'embedding': FieldInfo(annotation=list[float], required=False, default_factory=list),\n",
       " 'extra_fields': FieldInfo(annotation=dict[str, Any], required=False, default_factory=dict),\n",
       " 'assignment': FieldInfo(annotation=Union[str, NoneType], required=False, default=None, description='The objective of the task.', examples=['input1, input2 -> output']),\n",
       " 'template_name': FieldInfo(annotation=str, required=False, default='default_form', description='Name of the form template'),\n",
       " 'output_fields': FieldInfo(annotation=list[str], required=False, default_factory=list, description='Fields that are outputted and presented by the form. These can include all, part, or none of the request fields.'),\n",
       " 'none_as_valid_value': FieldInfo(annotation=bool, required=False, default=False, description='Indicate whether to treat None as a valid value.'),\n",
       " 'strict': FieldInfo(annotation=bool, required=False, default=False, description='If True, form fields and assignment are immutable.', frozen=True),\n",
       " 'guidance': FieldInfo(annotation=Union[str, dict[str, Any], NoneType], required=False, default=None, description='High-level task guidance, optimizable by AI.'),\n",
       " 'input_fields': FieldInfo(annotation=list[str], required=False, default_factory=list, description='Fields required to obtain the requested fields.'),\n",
       " 'request_fields': FieldInfo(annotation=list[str], required=False, default_factory=list, description='Fields to be filled by an intelligent process.'),\n",
       " 'task': FieldInfo(annotation=Any, required=False, default_factory=str, description='Work to be done, including custom instructions.'),\n",
       " 'task_description': FieldInfo(annotation=Union[str, NoneType], required=False, default_factory=str, description='Detailed description of the task'),\n",
       " 'init_input_kwargs': FieldInfo(annotation=dict[str, Any], required=False, default_factory=dict, exclude=True),\n",
       " 'has_processed': FieldInfo(annotation=bool, required=False, default=False, description='Indicates if the task has been processed.', exclude=True),\n",
       " 'input1': FieldInfo(annotation=Any, required=True),\n",
       " 'input2': FieldInfo(annotation=Any, required=True),\n",
       " 'output': FieldInfo(annotation=Any, required=True),\n",
       " 'input3': FieldInfo(annotation=Any, required=True),\n",
       " 'output2': FieldInfo(annotation=Any, required=True),\n",
       " 'hello': FieldInfo(annotation=Any, required=True)}"
      ]
     },
     "execution_count": 11,
     "metadata": {},
     "output_type": "execute_result"
    }
   ],
   "source": [
    "# we can see that the additional fields were added into form fields\n",
    "form1.all_fields"
   ]
  },
  {
   "cell_type": "code",
   "execution_count": 12,
   "metadata": {},
   "outputs": [],
   "source": [
    "# if already in request, this doesn't do anything\n",
    "form1.append_to_request(\"hello\")"
   ]
  },
  {
   "cell_type": "code",
   "execution_count": 13,
   "metadata": {},
   "outputs": [],
   "source": [
    "form3 = Form.from_form(form1)"
   ]
  },
  {
   "cell_type": "code",
   "execution_count": 14,
   "metadata": {},
   "outputs": [
    {
     "data": {
      "text/plain": [
       "False"
      ]
     },
     "execution_count": 14,
     "metadata": {},
     "output_type": "execute_result"
    }
   ],
   "source": [
    "# when we use from_form, we create a new form object, so the ln_id is different\n",
    "form3.ln_id == form1.ln_id"
   ]
  },
  {
   "cell_type": "code",
   "execution_count": 15,
   "metadata": {},
   "outputs": [
    {
     "name": "stdout",
     "output_type": "stream",
     "text": [
      "['input1', 'input2', 'input3']\n",
      "['output', 'output2']\n",
      "['output', 'hello']\n",
      "-------------------\n",
      "['input3', 'input1', 'input2']\n",
      "['output', 'output2']\n",
      "['output', 'hello']\n"
     ]
    }
   ],
   "source": [
    "for i in [\"input_fields\",\"output_fields\", \"request_fields\"]:\n",
    "    print(getattr(form1, i))\n",
    "\n",
    "print(\"-------------------\")\n",
    "for i in [\"input_fields\",\"output_fields\", \"request_fields\"]:\n",
    "    print(getattr(form3, i))"
   ]
  },
  {
   "cell_type": "code",
   "execution_count": 16,
   "metadata": {},
   "outputs": [
    {
     "data": {
      "text/plain": [
       "['input3', 'input1', 'input2']"
      ]
     },
     "execution_count": 16,
     "metadata": {},
     "output_type": "execute_result"
    }
   ],
   "source": [
    "form3.input_fields"
   ]
  },
  {
   "cell_type": "code",
   "execution_count": 17,
   "metadata": {},
   "outputs": [
    {
     "data": {
      "text/plain": [
       "['output', 'output2']"
      ]
     },
     "execution_count": 17,
     "metadata": {},
     "output_type": "execute_result"
    }
   ],
   "source": [
    "form1.output_fields"
   ]
  },
  {
   "cell_type": "code",
   "execution_count": 18,
   "metadata": {},
   "outputs": [
    {
     "data": {
      "text/plain": [
       "['output', 'output2']"
      ]
     },
     "execution_count": 18,
     "metadata": {},
     "output_type": "execute_result"
    }
   ],
   "source": [
    "form3.output_fields"
   ]
  },
  {
   "cell_type": "code",
   "execution_count": 19,
   "metadata": {},
   "outputs": [],
   "source": [
    "form4 = Form.from_form(form1, input1=4, output=5)"
   ]
  },
  {
   "cell_type": "code",
   "execution_count": 20,
   "metadata": {},
   "outputs": [
    {
     "data": {
      "text/plain": [
       "{'ln_id': 'ln00e91f8cdd-1d59-c5-873a141-465fb',\n",
       " 'timestamp': 1723232057.730735,\n",
       " 'metadata': {'last_updated': {'input3': 1723232057.730941,\n",
       "   'input1': 1723232057.730944,\n",
       "   'input2': 1723232057.730921,\n",
       "   'output': 1723232057.730926,\n",
       "   'hello': 1723232057.730931}},\n",
       " 'content': None,\n",
       " 'embedding': [],\n",
       " 'assignment': 'input3, input1, input2 -> output, hello',\n",
       " 'template_name': 'default_form',\n",
       " 'output_fields': ['output', 'output2'],\n",
       " 'none_as_valid_value': False,\n",
       " 'strict': False,\n",
       " 'guidance': None,\n",
       " 'input_fields': ['input3', 'input1', 'input2'],\n",
       " 'request_fields': ['output', 'hello'],\n",
       " 'task': '',\n",
       " 'task_description': None,\n",
       " 'strict_assignment': False,\n",
       " 'input3': 5,\n",
       " 'input1': 4,\n",
       " 'input2': LN_UNDEFINED,\n",
       " 'output': LN_UNDEFINED,\n",
       " 'hello': LN_UNDEFINED,\n",
       " 'lion_class': 'Form'}"
      ]
     },
     "execution_count": 20,
     "metadata": {},
     "output_type": "execute_result"
    }
   ],
   "source": [
    "form4.to_dict()"
   ]
  },
  {
   "cell_type": "code",
   "execution_count": 21,
   "metadata": {},
   "outputs": [],
   "source": [
    "form = Form(assignment=form1.assignment)"
   ]
  },
  {
   "cell_type": "code",
   "execution_count": 22,
   "metadata": {},
   "outputs": [
    {
     "data": {
      "text/plain": [
       "{'ln_id': 'ln8757cca1-f7a5b-2-c9bd53-242dd621',\n",
       " 'timestamp': 1723232057.737954,\n",
       " 'metadata': {'last_updated': {'input3': 1723232057.740939,\n",
       "   'input1': 1723232057.740949,\n",
       "   'input2': 1723232057.73806,\n",
       "   'output': 1723232057.738077,\n",
       "   'hello': 1723232057.738097}},\n",
       " 'content': None,\n",
       " 'embedding': [],\n",
       " 'assignment': 'input3, input1, input2 -> output, hello',\n",
       " 'template_name': 'default_form',\n",
       " 'output_fields': ['output', 'hello'],\n",
       " 'none_as_valid_value': False,\n",
       " 'strict': False,\n",
       " 'guidance': None,\n",
       " 'input_fields': ['input3', 'input1', 'input2'],\n",
       " 'request_fields': ['output', 'hello'],\n",
       " 'task': '',\n",
       " 'task_description': '',\n",
       " 'strict_assignment': False,\n",
       " 'input3': 5,\n",
       " 'input1': 3,\n",
       " 'input2': LN_UNDEFINED,\n",
       " 'output': LN_UNDEFINED,\n",
       " 'hello': LN_UNDEFINED,\n",
       " 'lion_class': 'Form'}"
      ]
     },
     "execution_count": 22,
     "metadata": {},
     "output_type": "execute_result"
    }
   ],
   "source": [
    "form.fill_input_fields(form1)\n",
    "form.to_dict()"
   ]
  },
  {
   "cell_type": "code",
   "execution_count": 23,
   "metadata": {},
   "outputs": [
    {
     "data": {
      "text/plain": [
       "{'ln_id': 'ln8757cca1-f7a5b-2-c9bd53-242dd621',\n",
       " 'timestamp': 1723232057.737954,\n",
       " 'metadata': {'last_updated': {'input3': 1723232057.740939,\n",
       "   'input1': 1723232057.740949,\n",
       "   'input2': 1723232057.744803,\n",
       "   'output': 1723232057.738077,\n",
       "   'hello': 1723232057.738097}},\n",
       " 'content': None,\n",
       " 'embedding': [],\n",
       " 'assignment': 'input3, input1, input2 -> output, hello',\n",
       " 'template_name': 'default_form',\n",
       " 'output_fields': ['output', 'hello'],\n",
       " 'none_as_valid_value': False,\n",
       " 'strict': False,\n",
       " 'guidance': None,\n",
       " 'input_fields': ['input3', 'input1', 'input2'],\n",
       " 'request_fields': ['output', 'hello'],\n",
       " 'task': '',\n",
       " 'task_description': '',\n",
       " 'strict_assignment': False,\n",
       " 'input3': 5,\n",
       " 'input1': 3,\n",
       " 'input2': 6,\n",
       " 'output': LN_UNDEFINED,\n",
       " 'hello': LN_UNDEFINED,\n",
       " 'lion_class': 'Form'}"
      ]
     },
     "execution_count": 23,
     "metadata": {},
     "output_type": "execute_result"
    }
   ],
   "source": [
    "form.fill_input_fields(input=5, input2=6)\n",
    "form.to_dict()"
   ]
  },
  {
   "cell_type": "code",
   "execution_count": 24,
   "metadata": {},
   "outputs": [
    {
     "data": {
      "text/plain": [
       "{'ln_id': 'ln8757cca1-f7a5b-2-c9bd53-242dd621',\n",
       " 'timestamp': 1723232057.737954,\n",
       " 'metadata': {'last_updated': {'input3': 1723232057.740939,\n",
       "   'input1': 1723232057.740949,\n",
       "   'input2': 1723232057.744803,\n",
       "   'output': 1723232057.748761,\n",
       "   'hello': 1723232057.748771}},\n",
       " 'content': None,\n",
       " 'embedding': [],\n",
       " 'assignment': 'input3, input1, input2 -> output, hello',\n",
       " 'template_name': 'default_form',\n",
       " 'output_fields': ['output', 'hello'],\n",
       " 'none_as_valid_value': False,\n",
       " 'strict': False,\n",
       " 'guidance': None,\n",
       " 'input_fields': ['input3', 'input1', 'input2'],\n",
       " 'request_fields': ['output', 'hello'],\n",
       " 'task': '',\n",
       " 'task_description': '',\n",
       " 'strict_assignment': False,\n",
       " 'input3': 5,\n",
       " 'input1': 3,\n",
       " 'input2': 6,\n",
       " 'output': 52,\n",
       " 'hello': 6,\n",
       " 'lion_class': 'Form'}"
      ]
     },
     "execution_count": 24,
     "metadata": {},
     "output_type": "execute_result"
    }
   ],
   "source": [
    "form.fill_request_fields(output=52, hello=6)\n",
    "form.to_dict()"
   ]
  },
  {
   "cell_type": "code",
   "execution_count": 25,
   "metadata": {},
   "outputs": [],
   "source": [
    "form.output_fields = [\"input3\", \"hello\", \"output\"]"
   ]
  },
  {
   "cell_type": "code",
   "execution_count": 26,
   "metadata": {},
   "outputs": [
    {
     "data": {
      "text/plain": [
       "{'input3': 5, 'hello': 6, 'output': 52}"
      ]
     },
     "execution_count": 26,
     "metadata": {},
     "output_type": "execute_result"
    }
   ],
   "source": [
    "form.get_results()"
   ]
  },
  {
   "cell_type": "code",
   "execution_count": 27,
   "metadata": {},
   "outputs": [
    {
     "data": {
      "text/plain": [
       "True"
      ]
     },
     "execution_count": 27,
     "metadata": {},
     "output_type": "execute_result"
    }
   ],
   "source": [
    "form.is_completed()"
   ]
  },
  {
   "cell_type": "code",
   "execution_count": 28,
   "metadata": {},
   "outputs": [
    {
     "data": {
      "text/plain": [
       "False"
      ]
     },
     "execution_count": 28,
     "metadata": {},
     "output_type": "execute_result"
    }
   ],
   "source": [
    "form.is_workable()"
   ]
  },
  {
   "cell_type": "code",
   "execution_count": 29,
   "metadata": {},
   "outputs": [
    {
     "name": "stdout",
     "output_type": "stream",
     "text": [
      "The form has been processed, and cannot be worked on again.\n"
     ]
    }
   ],
   "source": [
    "try:\n",
    "    form.check_is_workable()\n",
    "except Exception as e:\n",
    "    print(e)"
   ]
  }
 ],
 "metadata": {
  "kernelspec": {
   "display_name": "lion-core-dev",
   "language": "python",
   "name": "python3"
  },
  "language_info": {
   "codemirror_mode": {
    "name": "ipython",
    "version": 3
   },
   "file_extension": ".py",
   "mimetype": "text/x-python",
   "name": "python",
   "nbconvert_exporter": "python",
   "pygments_lexer": "ipython3",
   "version": "3.12.4"
  }
 },
 "nbformat": 4,
 "nbformat_minor": 2
}
