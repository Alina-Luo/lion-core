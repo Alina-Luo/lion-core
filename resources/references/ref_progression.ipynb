{
 "cells": [
  {
   "cell_type": "code",
   "execution_count": 1,
   "metadata": {},
   "outputs": [],
   "source": [
    "from collections import deque\n",
    "\n",
    "a = deque([1, 2, 3, 4, 5])\n",
    "b = deque([6, 7, 8, 9, 10])"
   ]
  },
  {
   "cell_type": "code",
   "execution_count": 2,
   "metadata": {},
   "outputs": [
    {
     "data": {
      "text/plain": [
       "1"
      ]
     },
     "execution_count": 2,
     "metadata": {},
     "output_type": "execute_result"
    }
   ],
   "source": [
    "a[0]"
   ]
  },
  {
   "cell_type": "code",
   "execution_count": 3,
   "metadata": {},
   "outputs": [
    {
     "data": {
      "text/plain": [
       "5"
      ]
     },
     "execution_count": 3,
     "metadata": {},
     "output_type": "execute_result"
    }
   ],
   "source": [
    "a[4]"
   ]
  },
  {
   "cell_type": "code",
   "execution_count": 4,
   "metadata": {},
   "outputs": [
    {
     "data": {
      "text/plain": [
       "deque([1, 2, 3, 4, 5, 6, 7, 8, 9, 10])"
      ]
     },
     "execution_count": 4,
     "metadata": {},
     "output_type": "execute_result"
    }
   ],
   "source": [
    "a += b\n",
    "a"
   ]
  },
  {
   "cell_type": "code",
   "execution_count": 5,
   "metadata": {},
   "outputs": [],
   "source": [
    "a.append(b)"
   ]
  },
  {
   "cell_type": "code",
   "execution_count": 6,
   "metadata": {},
   "outputs": [
    {
     "data": {
      "text/plain": [
       "deque([1, 2, 3, 4, 5, 6, 7, 8, 9, 10, deque([6, 7, 8, 9, 10])])"
      ]
     },
     "execution_count": 6,
     "metadata": {},
     "output_type": "execute_result"
    }
   ],
   "source": [
    "a"
   ]
  },
  {
   "cell_type": "code",
   "execution_count": 7,
   "metadata": {},
   "outputs": [
    {
     "data": {
      "text/plain": [
       "True"
      ]
     },
     "execution_count": 7,
     "metadata": {},
     "output_type": "execute_result"
    }
   ],
   "source": [
    "1 in a"
   ]
  },
  {
   "cell_type": "code",
   "execution_count": 8,
   "metadata": {},
   "outputs": [],
   "source": [
    "from lion_core.container.progression import Progression, progression\n",
    "from lion_core.generic.component import Component"
   ]
  },
  {
   "cell_type": "code",
   "execution_count": 9,
   "metadata": {},
   "outputs": [],
   "source": [
    "nodes = (Component() for _ in range(5))"
   ]
  },
  {
   "cell_type": "code",
   "execution_count": 10,
   "metadata": {},
   "outputs": [],
   "source": [
    "p = progression(nodes)"
   ]
  },
  {
   "cell_type": "code",
   "execution_count": 11,
   "metadata": {},
   "outputs": [
    {
     "data": {
      "text/plain": [
       "['ln10998201-6a0f2ad-4ea-0009-ac7d37',\n",
       " 'ln8b670ff5f-9c-26f318f94e-d1-0efef',\n",
       " 'lnc21a5115ae469-8-7-bab33-b2232047',\n",
       " 'ln7f4aff97-4ac9a966-1b49-f64-86274',\n",
       " 'lnfbd991d8b2-2889c90-b7-b28c-d9190']"
      ]
     },
     "execution_count": 11,
     "metadata": {},
     "output_type": "execute_result"
    }
   ],
   "source": [
    "p.order"
   ]
  },
  {
   "cell_type": "code",
   "execution_count": 12,
   "metadata": {},
   "outputs": [],
   "source": [
    "cc = Component()\n",
    "\n",
    "p.extend(cc)"
   ]
  },
  {
   "cell_type": "code",
   "execution_count": 13,
   "metadata": {},
   "outputs": [],
   "source": [
    "cc, dd, ee = Component(), Component(), Component()\n",
    "\n",
    "p.extend([cc, dd, ee])"
   ]
  },
  {
   "cell_type": "code",
   "execution_count": 14,
   "metadata": {},
   "outputs": [
    {
     "data": {
      "text/plain": [
       "Progression(['ln10998201-6a0f2ad-4ea-0009-ac7d37', 'ln8b670ff5f-9c-26f318f94e-d1-0efef', 'lnc21a5115ae469-8-7-bab33-b2232047', 'ln7f4aff97-4ac9a966-1b49-f64-86274', 'lnfbd991d8b2-2889c90-b7-b28c-d9190', 'ln0d86359c-0-00-26617d8-25b5341ed7', 'lnd3d489-5a-9f55-62-9f15a5d88aff86', 'ln08f9b39-a4ef02-052-3-abe7cf8cbf4', 'ln91c9a45-50d3-6c-f-d64754fa0f13ed'])"
      ]
     },
     "execution_count": 14,
     "metadata": {},
     "output_type": "execute_result"
    }
   ],
   "source": [
    "p"
   ]
  },
  {
   "cell_type": "code",
   "execution_count": 15,
   "metadata": {},
   "outputs": [
    {
     "data": {
      "text/plain": [
       "9"
      ]
     },
     "execution_count": 15,
     "metadata": {},
     "output_type": "execute_result"
    }
   ],
   "source": [
    "len(p)"
   ]
  },
  {
   "cell_type": "code",
   "execution_count": 16,
   "metadata": {},
   "outputs": [],
   "source": [
    "cc = Component()"
   ]
  },
  {
   "cell_type": "code",
   "execution_count": 17,
   "metadata": {},
   "outputs": [
    {
     "data": {
      "text/plain": [
       "Component(ln_id='lnc2f9a99a9ee27a-4c-db0-7a-0c8c747', timestamp=2024-07-13T12:56+00:00, content=None, metadata={}, extra_fields={})"
      ]
     },
     "execution_count": 17,
     "metadata": {},
     "output_type": "execute_result"
    }
   ],
   "source": [
    "cc"
   ]
  },
  {
   "cell_type": "code",
   "execution_count": 18,
   "metadata": {},
   "outputs": [],
   "source": [
    "p.extend(cc)"
   ]
  },
  {
   "cell_type": "code",
   "execution_count": 19,
   "metadata": {},
   "outputs": [
    {
     "data": {
      "text/plain": [
       "True"
      ]
     },
     "execution_count": 19,
     "metadata": {},
     "output_type": "execute_result"
    }
   ],
   "source": [
    "[cc, dd] in p"
   ]
  },
  {
   "cell_type": "code",
   "execution_count": 20,
   "metadata": {},
   "outputs": [
    {
     "data": {
      "text/plain": [
       "Progression(['ln10998201-6a0f2ad-4ea-0009-ac7d37', 'ln8b670ff5f-9c-26f318f94e-d1-0efef', 'lnc21a5115ae469-8-7-bab33-b2232047', 'ln7f4aff97-4ac9a966-1b49-f64-86274', 'lnfbd991d8b2-2889c90-b7-b28c-d9190', 'ln0d86359c-0-00-26617d8-25b5341ed7', 'lnd3d489-5a-9f55-62-9f15a5d88aff86', 'ln08f9b39-a4ef02-052-3-abe7cf8cbf4', 'ln91c9a45-50d3-6c-f-d64754fa0f13ed', 'lnc2f9a99a9ee27a-4c-db0-7a-0c8c747'])"
      ]
     },
     "execution_count": 20,
     "metadata": {},
     "output_type": "execute_result"
    }
   ],
   "source": [
    "p"
   ]
  },
  {
   "cell_type": "code",
   "execution_count": 21,
   "metadata": {},
   "outputs": [
    {
     "data": {
      "text/plain": [
       "'lnc21a5115ae469-8-7-bab33-b2232047'"
      ]
     },
     "execution_count": 21,
     "metadata": {},
     "output_type": "execute_result"
    }
   ],
   "source": [
    "p[2]"
   ]
  },
  {
   "cell_type": "code",
   "execution_count": 22,
   "metadata": {},
   "outputs": [],
   "source": [
    "gg = Component()"
   ]
  },
  {
   "cell_type": "code",
   "execution_count": 23,
   "metadata": {},
   "outputs": [],
   "source": [
    "p[0] = gg"
   ]
  },
  {
   "cell_type": "code",
   "execution_count": 24,
   "metadata": {},
   "outputs": [
    {
     "data": {
      "text/plain": [
       "Progression(['ln8fe52f346-327731-a-45-0cee79dd5f', 'ln8b670ff5f-9c-26f318f94e-d1-0efef', 'lnc21a5115ae469-8-7-bab33-b2232047', 'ln7f4aff97-4ac9a966-1b49-f64-86274', 'lnfbd991d8b2-2889c90-b7-b28c-d9190', 'ln0d86359c-0-00-26617d8-25b5341ed7', 'lnd3d489-5a-9f55-62-9f15a5d88aff86', 'ln08f9b39-a4ef02-052-3-abe7cf8cbf4', 'ln91c9a45-50d3-6c-f-d64754fa0f13ed', 'lnc2f9a99a9ee27a-4c-db0-7a-0c8c747'])"
      ]
     },
     "execution_count": 24,
     "metadata": {},
     "output_type": "execute_result"
    }
   ],
   "source": [
    "p"
   ]
  },
  {
   "cell_type": "code",
   "execution_count": 25,
   "metadata": {},
   "outputs": [
    {
     "data": {
      "text/plain": [
       "[1, 2, 23]"
      ]
     },
     "execution_count": 25,
     "metadata": {},
     "output_type": "execute_result"
    }
   ],
   "source": [
    "[1,2,23][0:8]"
   ]
  },
  {
   "cell_type": "code",
   "execution_count": 26,
   "metadata": {},
   "outputs": [
    {
     "data": {
      "text/plain": [
       "Progression(['ln8fe52f346-327731-a-45-0cee79dd5f', 'ln8b670ff5f-9c-26f318f94e-d1-0efef', 'lnc21a5115ae469-8-7-bab33-b2232047'])"
      ]
     },
     "execution_count": 26,
     "metadata": {},
     "output_type": "execute_result"
    }
   ],
   "source": [
    "p[0:3]"
   ]
  },
  {
   "cell_type": "code",
   "execution_count": 27,
   "metadata": {},
   "outputs": [],
   "source": [
    "p += dd"
   ]
  },
  {
   "cell_type": "code",
   "execution_count": 28,
   "metadata": {},
   "outputs": [
    {
     "data": {
      "text/plain": [
       "11"
      ]
     },
     "execution_count": 28,
     "metadata": {},
     "output_type": "execute_result"
    }
   ],
   "source": [
    "len(p)"
   ]
  },
  {
   "cell_type": "code",
   "execution_count": 29,
   "metadata": {},
   "outputs": [],
   "source": [
    "p -= cc"
   ]
  },
  {
   "cell_type": "code",
   "execution_count": 30,
   "metadata": {},
   "outputs": [
    {
     "data": {
      "text/plain": [
       "10"
      ]
     },
     "execution_count": 30,
     "metadata": {},
     "output_type": "execute_result"
    }
   ],
   "source": [
    "len(p)"
   ]
  },
  {
   "cell_type": "code",
   "execution_count": 31,
   "metadata": {},
   "outputs": [
    {
     "data": {
      "text/plain": [
       "False"
      ]
     },
     "execution_count": 31,
     "metadata": {},
     "output_type": "execute_result"
    }
   ],
   "source": [
    "cc in p"
   ]
  },
  {
   "cell_type": "code",
   "execution_count": 32,
   "metadata": {},
   "outputs": [
    {
     "data": {
      "text/plain": [
       "True"
      ]
     },
     "execution_count": 32,
     "metadata": {},
     "output_type": "execute_result"
    }
   ],
   "source": [
    "dd in p"
   ]
  },
  {
   "cell_type": "code",
   "execution_count": 33,
   "metadata": {},
   "outputs": [
    {
     "data": {
      "text/plain": [
       "False"
      ]
     },
     "execution_count": 33,
     "metadata": {},
     "output_type": "execute_result"
    }
   ],
   "source": [
    "tt = Component()\n",
    "tt in p"
   ]
  },
  {
   "cell_type": "code",
   "execution_count": 34,
   "metadata": {},
   "outputs": [
    {
     "name": "stdout",
     "output_type": "stream",
     "text": [
      "Error:  Component(ln_id=ln4ebe57..., timestamp=2024-07-13T12:56+00:00, content='None', metadata_keys=[], extra_fields_keys=[])\n"
     ]
    }
   ],
   "source": [
    "try:\n",
    "    p -= tt\n",
    "except Exception as e:\n",
    "    print(\"Error: \", e)"
   ]
  },
  {
   "cell_type": "code",
   "execution_count": 35,
   "metadata": {},
   "outputs": [],
   "source": [
    "p += cc"
   ]
  },
  {
   "cell_type": "code",
   "execution_count": 36,
   "metadata": {},
   "outputs": [
    {
     "data": {
      "text/plain": [
       "True"
      ]
     },
     "execution_count": 36,
     "metadata": {},
     "output_type": "execute_result"
    }
   ],
   "source": [
    "p.exclude(cc)"
   ]
  },
  {
   "cell_type": "code",
   "execution_count": 37,
   "metadata": {},
   "outputs": [
    {
     "data": {
      "text/plain": [
       "False"
      ]
     },
     "execution_count": 37,
     "metadata": {},
     "output_type": "execute_result"
    }
   ],
   "source": [
    "cc in p"
   ]
  },
  {
   "cell_type": "code",
   "execution_count": 38,
   "metadata": {},
   "outputs": [
    {
     "data": {
      "text/plain": [
       "10"
      ]
     },
     "execution_count": 38,
     "metadata": {},
     "output_type": "execute_result"
    }
   ],
   "source": [
    "len(p)"
   ]
  },
  {
   "cell_type": "code",
   "execution_count": 39,
   "metadata": {},
   "outputs": [
    {
     "name": "stdout",
     "output_type": "stream",
     "text": [
      "ln8fe52f346-327731-a-45-0cee79dd5f\n",
      "ln8b670ff5f-9c-26f318f94e-d1-0efef\n",
      "lnc21a5115ae469-8-7-bab33-b2232047\n",
      "ln7f4aff97-4ac9a966-1b49-f64-86274\n",
      "lnfbd991d8b2-2889c90-b7-b28c-d9190\n",
      "ln0d86359c-0-00-26617d8-25b5341ed7\n",
      "lnd3d489-5a-9f55-62-9f15a5d88aff86\n",
      "ln08f9b39-a4ef02-052-3-abe7cf8cbf4\n",
      "ln91c9a45-50d3-6c-f-d64754fa0f13ed\n",
      "ln08f9b39-a4ef02-052-3-abe7cf8cbf4\n"
     ]
    }
   ],
   "source": [
    "for i in p:\n",
    "    print(i)"
   ]
  },
  {
   "cell_type": "code",
   "execution_count": 40,
   "metadata": {},
   "outputs": [
    {
     "data": {
      "text/plain": [
       "10"
      ]
     },
     "execution_count": 40,
     "metadata": {},
     "output_type": "execute_result"
    }
   ],
   "source": [
    "len(p)"
   ]
  },
  {
   "cell_type": "code",
   "execution_count": 41,
   "metadata": {},
   "outputs": [
    {
     "name": "stdout",
     "output_type": "stream",
     "text": [
      "ln8fe52f346-327731-a-45-0cee79dd5f\n",
      "ln8b670ff5f-9c-26f318f94e-d1-0efef\n",
      "lnc21a5115ae469-8-7-bab33-b2232047\n",
      "ln7f4aff97-4ac9a966-1b49-f64-86274\n",
      "lnfbd991d8b2-2889c90-b7-b28c-d9190\n",
      "ln0d86359c-0-00-26617d8-25b5341ed7\n",
      "lnd3d489-5a-9f55-62-9f15a5d88aff86\n",
      "ln08f9b39-a4ef02-052-3-abe7cf8cbf4\n",
      "ln91c9a45-50d3-6c-f-d64754fa0f13ed\n",
      "ln08f9b39-a4ef02-052-3-abe7cf8cbf4\n",
      "index 10\n"
     ]
    }
   ],
   "source": [
    "try:\n",
    "    for i in range(12):\n",
    "        print(p[i])\n",
    "except Exception as e:\n",
    "    print(e)"
   ]
  },
  {
   "cell_type": "code",
   "execution_count": 42,
   "metadata": {},
   "outputs": [
    {
     "data": {
      "text/plain": [
       "Progression(['ln8fe52f346-327731-a-45-0cee79dd5f', 'ln8b670ff5f-9c-26f318f94e-d1-0efef', 'lnc21a5115ae469-8-7-bab33-b2232047', 'ln7f4aff97-4ac9a966-1b49-f64-86274', 'lnfbd991d8b2-2889c90-b7-b28c-d9190', 'ln0d86359c-0-00-26617d8-25b5341ed7', 'lnd3d489-5a-9f55-62-9f15a5d88aff86', 'ln08f9b39-a4ef02-052-3-abe7cf8cbf4', 'ln91c9a45-50d3-6c-f-d64754fa0f13ed', 'ln08f9b39-a4ef02-052-3-abe7cf8cbf4'])"
      ]
     },
     "execution_count": 42,
     "metadata": {},
     "output_type": "execute_result"
    }
   ],
   "source": [
    "p"
   ]
  },
  {
   "cell_type": "code",
   "execution_count": 43,
   "metadata": {},
   "outputs": [
    {
     "data": {
      "text/plain": [
       "10"
      ]
     },
     "execution_count": 43,
     "metadata": {},
     "output_type": "execute_result"
    }
   ],
   "source": [
    "len(p)"
   ]
  },
  {
   "cell_type": "code",
   "execution_count": 44,
   "metadata": {},
   "outputs": [],
   "source": [
    "# [1,2,3,4,5].index(10)"
   ]
  },
  {
   "cell_type": "code",
   "execution_count": 45,
   "metadata": {},
   "outputs": [],
   "source": [
    "# [5:10]"
   ]
  },
  {
   "cell_type": "code",
   "execution_count": 46,
   "metadata": {},
   "outputs": [
    {
     "name": "stdout",
     "output_type": "stream",
     "text": [
      "Error:  Requested more items than available: slice(5, 15, None)\n"
     ]
    }
   ],
   "source": [
    "try:\n",
    "    p[5:15]\n",
    "except Exception as e:\n",
    "    print(\"Error: \", e)"
   ]
  },
  {
   "cell_type": "code",
   "execution_count": 47,
   "metadata": {},
   "outputs": [
    {
     "name": "stdout",
     "output_type": "stream",
     "text": [
      "ln8fe52f346-327731-a-45-0cee79dd5f\n",
      "ln8b670ff5f-9c-26f318f94e-d1-0efef\n",
      "lnc21a5115ae469-8-7-bab33-b2232047\n",
      "ln7f4aff97-4ac9a966-1b49-f64-86274\n",
      "lnfbd991d8b2-2889c90-b7-b28c-d9190\n",
      "ln0d86359c-0-00-26617d8-25b5341ed7\n",
      "lnd3d489-5a-9f55-62-9f15a5d88aff86\n",
      "ln08f9b39-a4ef02-052-3-abe7cf8cbf4\n",
      "ln91c9a45-50d3-6c-f-d64754fa0f13ed\n",
      "ln08f9b39-a4ef02-052-3-abe7cf8cbf4\n",
      "Item not found.\n"
     ]
    }
   ],
   "source": [
    "try:\n",
    "    for i in range(12):\n",
    "        print(p.popleft())\n",
    "except Exception as e:\n",
    "    print(e)"
   ]
  },
  {
   "cell_type": "code",
   "execution_count": 48,
   "metadata": {},
   "outputs": [],
   "source": [
    "for i in range(5):\n",
    "    p += Component()"
   ]
  },
  {
   "cell_type": "code",
   "execution_count": 49,
   "metadata": {},
   "outputs": [
    {
     "data": {
      "text/plain": [
       "5"
      ]
     },
     "execution_count": 49,
     "metadata": {},
     "output_type": "execute_result"
    }
   ],
   "source": [
    "len(p)"
   ]
  },
  {
   "cell_type": "code",
   "execution_count": 50,
   "metadata": {},
   "outputs": [
    {
     "data": {
      "text/plain": [
       "0"
      ]
     },
     "execution_count": 50,
     "metadata": {},
     "output_type": "execute_result"
    }
   ],
   "source": [
    "for i in list(p.order):\n",
    "    p.remove(i)\n",
    "\n",
    "len(p)"
   ]
  },
  {
   "cell_type": "code",
   "execution_count": 51,
   "metadata": {},
   "outputs": [
    {
     "data": {
      "text/plain": [
       "10"
      ]
     },
     "execution_count": 51,
     "metadata": {},
     "output_type": "execute_result"
    }
   ],
   "source": [
    "p2 = progression()\n",
    "\n",
    "for i in range(5):\n",
    "    p += Component()\n",
    "    p2 += Component()\n",
    "\n",
    "len(p + p2)"
   ]
  },
  {
   "cell_type": "code",
   "execution_count": 52,
   "metadata": {},
   "outputs": [
    {
     "data": {
      "text/plain": [
       "False"
      ]
     },
     "execution_count": 52,
     "metadata": {},
     "output_type": "execute_result"
    }
   ],
   "source": [
    "p + p2 == p2 + p"
   ]
  },
  {
   "cell_type": "code",
   "execution_count": 53,
   "metadata": {},
   "outputs": [
    {
     "data": {
      "text/plain": [
       "True"
      ]
     },
     "execution_count": 53,
     "metadata": {},
     "output_type": "execute_result"
    }
   ],
   "source": [
    "p + p == p + p"
   ]
  },
  {
   "cell_type": "markdown",
   "metadata": {},
   "source": [
    "[]\n",
    "\n",
    "\n",
    "\n",
    "\n",
    "\n"
   ]
  },
  {
   "cell_type": "code",
   "execution_count": 54,
   "metadata": {},
   "outputs": [
    {
     "data": {
      "text/plain": [
       "6"
      ]
     },
     "execution_count": 54,
     "metadata": {},
     "output_type": "execute_result"
    }
   ],
   "source": [
    "# a non progression add a progression is a new progression\n",
    "node = Component()\n",
    "\n",
    "len(node + p)"
   ]
  },
  {
   "cell_type": "code",
   "execution_count": 55,
   "metadata": {},
   "outputs": [
    {
     "data": {
      "text/plain": [
       "5"
      ]
     },
     "execution_count": 55,
     "metadata": {},
     "output_type": "execute_result"
    }
   ],
   "source": [
    "len(p)"
   ]
  },
  {
   "cell_type": "code",
   "execution_count": 56,
   "metadata": {},
   "outputs": [
    {
     "data": {
      "text/plain": [
       "['ln6c67876eeb7-b-b77-bfb3-c1dfb2281',\n",
       " 'ln66afd8b9f-a2a5f-71f7-ce-f7c9dbd2',\n",
       " 'ln6f7ef0-36-492c8af-2f9cad8a-45462',\n",
       " 'ln2fae11-a6-b42-54ca6f70b3e0-009d3',\n",
       " 'ln69133fa75-3-33-f7-f80be1030b6cb2']"
      ]
     },
     "execution_count": 56,
     "metadata": {},
     "output_type": "execute_result"
    }
   ],
   "source": [
    "list(p)"
   ]
  },
  {
   "cell_type": "code",
   "execution_count": 57,
   "metadata": {},
   "outputs": [
    {
     "data": {
      "text/plain": [
       "{'ln2fae11-a6-b42-54ca6f70b3e0-009d3',\n",
       " 'ln66afd8b9f-a2a5f-71f7-ce-f7c9dbd2',\n",
       " 'ln69133fa75-3-33-f7-f80be1030b6cb2',\n",
       " 'ln6c67876eeb7-b-b77-bfb3-c1dfb2281',\n",
       " 'ln6f7ef0-36-492c8af-2f9cad8a-45462'}"
      ]
     },
     "execution_count": 57,
     "metadata": {},
     "output_type": "execute_result"
    }
   ],
   "source": [
    "set(p)"
   ]
  },
  {
   "cell_type": "code",
   "execution_count": 58,
   "metadata": {},
   "outputs": [
    {
     "data": {
      "text/plain": [
       "('ln6c67876eeb7-b-b77-bfb3-c1dfb2281',\n",
       " 'ln66afd8b9f-a2a5f-71f7-ce-f7c9dbd2',\n",
       " 'ln6f7ef0-36-492c8af-2f9cad8a-45462',\n",
       " 'ln2fae11-a6-b42-54ca6f70b3e0-009d3',\n",
       " 'ln69133fa75-3-33-f7-f80be1030b6cb2')"
      ]
     },
     "execution_count": 58,
     "metadata": {},
     "output_type": "execute_result"
    }
   ],
   "source": [
    "tuple(p)"
   ]
  },
  {
   "cell_type": "code",
   "execution_count": 59,
   "metadata": {},
   "outputs": [
    {
     "data": {
      "text/plain": [
       "deque(['ln6c67876eeb7-b-b77-bfb3-c1dfb2281',\n",
       "       'ln66afd8b9f-a2a5f-71f7-ce-f7c9dbd2',\n",
       "       'ln6f7ef0-36-492c8af-2f9cad8a-45462',\n",
       "       'ln2fae11-a6-b42-54ca6f70b3e0-009d3',\n",
       "       'ln69133fa75-3-33-f7-f80be1030b6cb2'])"
      ]
     },
     "execution_count": 59,
     "metadata": {},
     "output_type": "execute_result"
    }
   ],
   "source": [
    "deque(p)"
   ]
  }
 ],
 "metadata": {
  "kernelspec": {
   "display_name": ".venv",
   "language": "python",
   "name": "python3"
  },
  "language_info": {
   "codemirror_mode": {
    "name": "ipython",
    "version": 3
   },
   "file_extension": ".py",
   "mimetype": "text/x-python",
   "name": "python",
   "nbconvert_exporter": "python",
   "pygments_lexer": "ipython3",
   "version": "3.12.3"
  }
 },
 "nbformat": 4,
 "nbformat_minor": 2
}
