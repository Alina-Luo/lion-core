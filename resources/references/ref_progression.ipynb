{
 "cells": [
  {
   "cell_type": "code",
   "execution_count": 1,
   "metadata": {},
   "outputs": [],
   "source": [
    "from collections import deque\n",
    "\n",
    "a = deque([1, 2, 3, 4, 5])\n",
    "b = deque([6, 7, 8, 9, 10])"
   ]
  },
  {
   "cell_type": "code",
   "execution_count": 2,
   "metadata": {},
   "outputs": [
    {
     "data": {
      "text/plain": [
       "1"
      ]
     },
     "execution_count": 2,
     "metadata": {},
     "output_type": "execute_result"
    }
   ],
   "source": [
    "a[0]"
   ]
  },
  {
   "cell_type": "code",
   "execution_count": 3,
   "metadata": {},
   "outputs": [
    {
     "data": {
      "text/plain": [
       "5"
      ]
     },
     "execution_count": 3,
     "metadata": {},
     "output_type": "execute_result"
    }
   ],
   "source": [
    "a[4]"
   ]
  },
  {
   "cell_type": "code",
   "execution_count": 4,
   "metadata": {},
   "outputs": [
    {
     "data": {
      "text/plain": [
       "deque([1, 2, 3, 4, 5, 6, 7, 8, 9, 10])"
      ]
     },
     "execution_count": 4,
     "metadata": {},
     "output_type": "execute_result"
    }
   ],
   "source": [
    "a += b\n",
    "a"
   ]
  },
  {
   "cell_type": "code",
   "execution_count": 5,
   "metadata": {},
   "outputs": [],
   "source": [
    "a.append(b)"
   ]
  },
  {
   "cell_type": "code",
   "execution_count": 6,
   "metadata": {},
   "outputs": [
    {
     "data": {
      "text/plain": [
       "deque([1, 2, 3, 4, 5, 6, 7, 8, 9, 10, deque([6, 7, 8, 9, 10])])"
      ]
     },
     "execution_count": 6,
     "metadata": {},
     "output_type": "execute_result"
    }
   ],
   "source": [
    "a"
   ]
  },
  {
   "cell_type": "code",
   "execution_count": 7,
   "metadata": {},
   "outputs": [
    {
     "data": {
      "text/plain": [
       "True"
      ]
     },
     "execution_count": 7,
     "metadata": {},
     "output_type": "execute_result"
    }
   ],
   "source": [
    "1 in a"
   ]
  },
  {
   "cell_type": "code",
   "execution_count": 8,
   "metadata": {},
   "outputs": [],
   "source": [
    "from lion_core.generic.progression import Progression, progression\n",
    "from lion_core.generic.component import Component"
   ]
  },
  {
   "cell_type": "code",
   "execution_count": 9,
   "metadata": {},
   "outputs": [],
   "source": [
    "nodes = (Component() for _ in range(5))"
   ]
  },
  {
   "cell_type": "code",
   "execution_count": 10,
   "metadata": {},
   "outputs": [],
   "source": [
    "p = progression(nodes)"
   ]
  },
  {
   "cell_type": "code",
   "execution_count": 11,
   "metadata": {},
   "outputs": [
    {
     "data": {
      "text/plain": [
       "['ln457889b-8-2410-1c4be-cad355ee446',\n",
       " 'ln81dc4e-40-dfcca7c7-7b-865050e07c',\n",
       " 'ln947fe16dd-5097c564-be-410c-45475',\n",
       " 'lnbb6137b207f0c8-c79-2-1000-d1f498',\n",
       " 'lna34d7df-5dc18-b93ac0b-d80-9fbb4b']"
      ]
     },
     "execution_count": 11,
     "metadata": {},
     "output_type": "execute_result"
    }
   ],
   "source": [
    "p.order"
   ]
  },
  {
   "cell_type": "code",
   "execution_count": 12,
   "metadata": {},
   "outputs": [],
   "source": [
    "cc = Component()\n",
    "\n",
    "p.extend(cc)"
   ]
  },
  {
   "cell_type": "code",
   "execution_count": 13,
   "metadata": {},
   "outputs": [],
   "source": [
    "cc, dd, ee = Component(), Component(), Component()\n",
    "\n",
    "p.extend([cc, dd, ee])"
   ]
  },
  {
   "cell_type": "code",
   "execution_count": 14,
   "metadata": {},
   "outputs": [
    {
     "data": {
      "text/plain": [
       "Progression(['ln457889b-8-2410-1c4be-cad355ee446', 'ln81dc4e-40-dfcca7c7-7b-865050e07c', 'ln947fe16dd-5097c564-be-410c-45475', 'lnbb6137b207f0c8-c79-2-1000-d1f498', 'lna34d7df-5dc18-b93ac0b-d80-9fbb4b', 'lne22dad329a813-6d1ae-b-ed-a14ae78', 'lne5c7f8947-fb9d-4f9-3122eb8-9e6e1', 'lnf5d4a77c6-0328-23b63-3-85f50c970', 'ln4f620f1ba-b470-b-4-cf63ea982e4d3'])"
      ]
     },
     "execution_count": 14,
     "metadata": {},
     "output_type": "execute_result"
    }
   ],
   "source": [
    "p"
   ]
  },
  {
   "cell_type": "code",
   "execution_count": 15,
   "metadata": {},
   "outputs": [
    {
     "data": {
      "text/plain": [
       "9"
      ]
     },
     "execution_count": 15,
     "metadata": {},
     "output_type": "execute_result"
    }
   ],
   "source": [
    "len(p)"
   ]
  },
  {
   "cell_type": "code",
   "execution_count": 16,
   "metadata": {},
   "outputs": [],
   "source": [
    "cc = Component()"
   ]
  },
  {
   "cell_type": "code",
   "execution_count": 17,
   "metadata": {},
   "outputs": [
    {
     "data": {
      "text/plain": [
       "Component(ln_id='lnbde198fc-4996dc-3aef-660-1b09fe1', timestamp=2024-07-21 14:21:42.820036+00:00, content=None, metadata={}, extra_fields={})"
      ]
     },
     "execution_count": 17,
     "metadata": {},
     "output_type": "execute_result"
    }
   ],
   "source": [
    "cc"
   ]
  },
  {
   "cell_type": "code",
   "execution_count": 18,
   "metadata": {},
   "outputs": [],
   "source": [
    "p.extend(cc)"
   ]
  },
  {
   "cell_type": "code",
   "execution_count": 19,
   "metadata": {},
   "outputs": [
    {
     "data": {
      "text/plain": [
       "True"
      ]
     },
     "execution_count": 19,
     "metadata": {},
     "output_type": "execute_result"
    }
   ],
   "source": [
    "[cc, dd] in p"
   ]
  },
  {
   "cell_type": "code",
   "execution_count": 20,
   "metadata": {},
   "outputs": [
    {
     "data": {
      "text/plain": [
       "Progression(['ln457889b-8-2410-1c4be-cad355ee446', 'ln81dc4e-40-dfcca7c7-7b-865050e07c', 'ln947fe16dd-5097c564-be-410c-45475', 'lnbb6137b207f0c8-c79-2-1000-d1f498', 'lna34d7df-5dc18-b93ac0b-d80-9fbb4b', 'lne22dad329a813-6d1ae-b-ed-a14ae78', 'lne5c7f8947-fb9d-4f9-3122eb8-9e6e1', 'lnf5d4a77c6-0328-23b63-3-85f50c970', 'ln4f620f1ba-b470-b-4-cf63ea982e4d3', 'lnbde198fc-4996dc-3aef-660-1b09fe1'])"
      ]
     },
     "execution_count": 20,
     "metadata": {},
     "output_type": "execute_result"
    }
   ],
   "source": [
    "p"
   ]
  },
  {
   "cell_type": "code",
   "execution_count": 21,
   "metadata": {},
   "outputs": [
    {
     "data": {
      "text/plain": [
       "'ln947fe16dd-5097c564-be-410c-45475'"
      ]
     },
     "execution_count": 21,
     "metadata": {},
     "output_type": "execute_result"
    }
   ],
   "source": [
    "p[2]"
   ]
  },
  {
   "cell_type": "code",
   "execution_count": 22,
   "metadata": {},
   "outputs": [],
   "source": [
    "gg = Component()"
   ]
  },
  {
   "cell_type": "code",
   "execution_count": 23,
   "metadata": {},
   "outputs": [],
   "source": [
    "p[0] = gg"
   ]
  },
  {
   "cell_type": "code",
   "execution_count": 24,
   "metadata": {},
   "outputs": [
    {
     "data": {
      "text/plain": [
       "Progression(['lnf600330e155a-1-8869-6a-bdf4003d3', 'ln81dc4e-40-dfcca7c7-7b-865050e07c', 'ln947fe16dd-5097c564-be-410c-45475', 'lnbb6137b207f0c8-c79-2-1000-d1f498', 'lna34d7df-5dc18-b93ac0b-d80-9fbb4b', 'lne22dad329a813-6d1ae-b-ed-a14ae78', 'lne5c7f8947-fb9d-4f9-3122eb8-9e6e1', 'lnf5d4a77c6-0328-23b63-3-85f50c970', 'ln4f620f1ba-b470-b-4-cf63ea982e4d3', 'lnbde198fc-4996dc-3aef-660-1b09fe1'])"
      ]
     },
     "execution_count": 24,
     "metadata": {},
     "output_type": "execute_result"
    }
   ],
   "source": [
    "p"
   ]
  },
  {
   "cell_type": "code",
   "execution_count": 25,
   "metadata": {},
   "outputs": [
    {
     "data": {
      "text/plain": [
       "[1, 2, 23]"
      ]
     },
     "execution_count": 25,
     "metadata": {},
     "output_type": "execute_result"
    }
   ],
   "source": [
    "[1,2,23][0:8]"
   ]
  },
  {
   "cell_type": "code",
   "execution_count": 26,
   "metadata": {},
   "outputs": [
    {
     "data": {
      "text/plain": [
       "Progression(['lnf600330e155a-1-8869-6a-bdf4003d3', 'ln81dc4e-40-dfcca7c7-7b-865050e07c', 'ln947fe16dd-5097c564-be-410c-45475'])"
      ]
     },
     "execution_count": 26,
     "metadata": {},
     "output_type": "execute_result"
    }
   ],
   "source": [
    "p[0:3]"
   ]
  },
  {
   "cell_type": "code",
   "execution_count": 27,
   "metadata": {},
   "outputs": [],
   "source": [
    "p += dd"
   ]
  },
  {
   "cell_type": "code",
   "execution_count": 28,
   "metadata": {},
   "outputs": [
    {
     "data": {
      "text/plain": [
       "11"
      ]
     },
     "execution_count": 28,
     "metadata": {},
     "output_type": "execute_result"
    }
   ],
   "source": [
    "len(p)"
   ]
  },
  {
   "cell_type": "code",
   "execution_count": 29,
   "metadata": {},
   "outputs": [],
   "source": [
    "p -= cc"
   ]
  },
  {
   "cell_type": "code",
   "execution_count": 30,
   "metadata": {},
   "outputs": [
    {
     "data": {
      "text/plain": [
       "10"
      ]
     },
     "execution_count": 30,
     "metadata": {},
     "output_type": "execute_result"
    }
   ],
   "source": [
    "len(p)"
   ]
  },
  {
   "cell_type": "code",
   "execution_count": 31,
   "metadata": {},
   "outputs": [
    {
     "data": {
      "text/plain": [
       "False"
      ]
     },
     "execution_count": 31,
     "metadata": {},
     "output_type": "execute_result"
    }
   ],
   "source": [
    "cc in p"
   ]
  },
  {
   "cell_type": "code",
   "execution_count": 32,
   "metadata": {},
   "outputs": [
    {
     "data": {
      "text/plain": [
       "True"
      ]
     },
     "execution_count": 32,
     "metadata": {},
     "output_type": "execute_result"
    }
   ],
   "source": [
    "dd in p"
   ]
  },
  {
   "cell_type": "code",
   "execution_count": 33,
   "metadata": {},
   "outputs": [
    {
     "data": {
      "text/plain": [
       "False"
      ]
     },
     "execution_count": 33,
     "metadata": {},
     "output_type": "execute_result"
    }
   ],
   "source": [
    "tt = Component()\n",
    "tt in p"
   ]
  },
  {
   "cell_type": "code",
   "execution_count": 34,
   "metadata": {},
   "outputs": [
    {
     "name": "stdout",
     "output_type": "stream",
     "text": [
      "Error:  Component(ln_id=ln7c6606..., timestamp=2024-07-21 14:21:42.911813+00:00, content='None', metadata_keys=[], extra_fields_keys=[])\n"
     ]
    }
   ],
   "source": [
    "try:\n",
    "    p -= tt\n",
    "except Exception as e:\n",
    "    print(\"Error: \", e)"
   ]
  },
  {
   "cell_type": "code",
   "execution_count": 35,
   "metadata": {},
   "outputs": [],
   "source": [
    "p += cc"
   ]
  },
  {
   "cell_type": "code",
   "execution_count": 36,
   "metadata": {},
   "outputs": [],
   "source": [
    "p.exclude(cc)"
   ]
  },
  {
   "cell_type": "code",
   "execution_count": 37,
   "metadata": {},
   "outputs": [
    {
     "data": {
      "text/plain": [
       "False"
      ]
     },
     "execution_count": 37,
     "metadata": {},
     "output_type": "execute_result"
    }
   ],
   "source": [
    "cc in p"
   ]
  },
  {
   "cell_type": "code",
   "execution_count": 38,
   "metadata": {},
   "outputs": [
    {
     "data": {
      "text/plain": [
       "10"
      ]
     },
     "execution_count": 38,
     "metadata": {},
     "output_type": "execute_result"
    }
   ],
   "source": [
    "len(p)"
   ]
  },
  {
   "cell_type": "code",
   "execution_count": 39,
   "metadata": {},
   "outputs": [
    {
     "name": "stdout",
     "output_type": "stream",
     "text": [
      "lnf600330e155a-1-8869-6a-bdf4003d3\n",
      "ln81dc4e-40-dfcca7c7-7b-865050e07c\n",
      "ln947fe16dd-5097c564-be-410c-45475\n",
      "lnbb6137b207f0c8-c79-2-1000-d1f498\n",
      "lna34d7df-5dc18-b93ac0b-d80-9fbb4b\n",
      "lne22dad329a813-6d1ae-b-ed-a14ae78\n",
      "lne5c7f8947-fb9d-4f9-3122eb8-9e6e1\n",
      "lnf5d4a77c6-0328-23b63-3-85f50c970\n",
      "ln4f620f1ba-b470-b-4-cf63ea982e4d3\n",
      "lnf5d4a77c6-0328-23b63-3-85f50c970\n"
     ]
    }
   ],
   "source": [
    "for i in p:\n",
    "    print(i)"
   ]
  },
  {
   "cell_type": "code",
   "execution_count": 40,
   "metadata": {},
   "outputs": [
    {
     "data": {
      "text/plain": [
       "10"
      ]
     },
     "execution_count": 40,
     "metadata": {},
     "output_type": "execute_result"
    }
   ],
   "source": [
    "len(p)"
   ]
  },
  {
   "cell_type": "code",
   "execution_count": 41,
   "metadata": {},
   "outputs": [
    {
     "name": "stdout",
     "output_type": "stream",
     "text": [
      "lnf600330e155a-1-8869-6a-bdf4003d3\n",
      "ln81dc4e-40-dfcca7c7-7b-865050e07c\n",
      "ln947fe16dd-5097c564-be-410c-45475\n",
      "lnbb6137b207f0c8-c79-2-1000-d1f498\n",
      "lna34d7df-5dc18-b93ac0b-d80-9fbb4b\n",
      "lne22dad329a813-6d1ae-b-ed-a14ae78\n",
      "lne5c7f8947-fb9d-4f9-3122eb8-9e6e1\n",
      "lnf5d4a77c6-0328-23b63-3-85f50c970\n",
      "ln4f620f1ba-b470-b-4-cf63ea982e4d3\n",
      "lnf5d4a77c6-0328-23b63-3-85f50c970\n",
      "index 10 item not found\n"
     ]
    }
   ],
   "source": [
    "try:\n",
    "    for i in range(12):\n",
    "        print(p[i])\n",
    "except Exception as e:\n",
    "    print(e)"
   ]
  },
  {
   "cell_type": "code",
   "execution_count": 42,
   "metadata": {},
   "outputs": [
    {
     "data": {
      "text/plain": [
       "Progression(['lnf600330e155a-1-8869-6a-bdf4003d3', 'ln81dc4e-40-dfcca7c7-7b-865050e07c', 'ln947fe16dd-5097c564-be-410c-45475', 'lnbb6137b207f0c8-c79-2-1000-d1f498', 'lna34d7df-5dc18-b93ac0b-d80-9fbb4b', 'lne22dad329a813-6d1ae-b-ed-a14ae78', 'lne5c7f8947-fb9d-4f9-3122eb8-9e6e1', 'lnf5d4a77c6-0328-23b63-3-85f50c970', 'ln4f620f1ba-b470-b-4-cf63ea982e4d3', 'lnf5d4a77c6-0328-23b63-3-85f50c970'])"
      ]
     },
     "execution_count": 42,
     "metadata": {},
     "output_type": "execute_result"
    }
   ],
   "source": [
    "p"
   ]
  },
  {
   "cell_type": "code",
   "execution_count": 43,
   "metadata": {},
   "outputs": [
    {
     "data": {
      "text/plain": [
       "10"
      ]
     },
     "execution_count": 43,
     "metadata": {},
     "output_type": "execute_result"
    }
   ],
   "source": [
    "len(p)"
   ]
  },
  {
   "cell_type": "code",
   "execution_count": 44,
   "metadata": {},
   "outputs": [],
   "source": [
    "# [1,2,3,4,5].index(10)"
   ]
  },
  {
   "cell_type": "code",
   "execution_count": 45,
   "metadata": {},
   "outputs": [],
   "source": [
    "# [5:10]"
   ]
  },
  {
   "cell_type": "code",
   "execution_count": 46,
   "metadata": {},
   "outputs": [],
   "source": [
    "try:\n",
    "    p[5:15]\n",
    "except Exception as e:\n",
    "    print(\"Error: \", e)"
   ]
  },
  {
   "cell_type": "code",
   "execution_count": 47,
   "metadata": {},
   "outputs": [
    {
     "name": "stdout",
     "output_type": "stream",
     "text": [
      "lnf600330e155a-1-8869-6a-bdf4003d3\n",
      "ln81dc4e-40-dfcca7c7-7b-865050e07c\n",
      "ln947fe16dd-5097c564-be-410c-45475\n",
      "lnbb6137b207f0c8-c79-2-1000-d1f498\n",
      "lna34d7df-5dc18-b93ac0b-d80-9fbb4b\n",
      "lne22dad329a813-6d1ae-b-ed-a14ae78\n",
      "lne5c7f8947-fb9d-4f9-3122eb8-9e6e1\n",
      "lnf5d4a77c6-0328-23b63-3-85f50c970\n",
      "ln4f620f1ba-b470-b-4-cf63ea982e4d3\n",
      "lnf5d4a77c6-0328-23b63-3-85f50c970\n",
      "Item not found.\n"
     ]
    }
   ],
   "source": [
    "try:\n",
    "    for i in range(12):\n",
    "        print(p.popleft())\n",
    "except Exception as e:\n",
    "    print(e)"
   ]
  },
  {
   "cell_type": "code",
   "execution_count": 48,
   "metadata": {},
   "outputs": [],
   "source": [
    "for i in range(5):\n",
    "    p += Component()"
   ]
  },
  {
   "cell_type": "code",
   "execution_count": 49,
   "metadata": {},
   "outputs": [
    {
     "data": {
      "text/plain": [
       "5"
      ]
     },
     "execution_count": 49,
     "metadata": {},
     "output_type": "execute_result"
    }
   ],
   "source": [
    "len(p)"
   ]
  },
  {
   "cell_type": "code",
   "execution_count": 50,
   "metadata": {},
   "outputs": [
    {
     "data": {
      "text/plain": [
       "0"
      ]
     },
     "execution_count": 50,
     "metadata": {},
     "output_type": "execute_result"
    }
   ],
   "source": [
    "for i in list(p.order):\n",
    "    p.remove(i)\n",
    "\n",
    "len(p)"
   ]
  },
  {
   "cell_type": "code",
   "execution_count": 51,
   "metadata": {},
   "outputs": [
    {
     "data": {
      "text/plain": [
       "6"
      ]
     },
     "execution_count": 51,
     "metadata": {},
     "output_type": "execute_result"
    }
   ],
   "source": [
    "p2 = progression()\n",
    "\n",
    "for i in range(5):\n",
    "    p += Component()\n",
    "    p2 += Component()\n",
    "\n",
    "len(p + p2)"
   ]
  },
  {
   "cell_type": "code",
   "execution_count": 52,
   "metadata": {},
   "outputs": [
    {
     "data": {
      "text/plain": [
       "False"
      ]
     },
     "execution_count": 52,
     "metadata": {},
     "output_type": "execute_result"
    }
   ],
   "source": [
    "p + p2 == p2 + p"
   ]
  },
  {
   "cell_type": "code",
   "execution_count": 53,
   "metadata": {},
   "outputs": [
    {
     "data": {
      "text/plain": [
       "True"
      ]
     },
     "execution_count": 53,
     "metadata": {},
     "output_type": "execute_result"
    }
   ],
   "source": [
    "p + p == p + p"
   ]
  },
  {
   "cell_type": "markdown",
   "metadata": {},
   "source": [
    "[]\n",
    "\n",
    "\n",
    "\n",
    "\n",
    "\n"
   ]
  },
  {
   "cell_type": "code",
   "execution_count": 54,
   "metadata": {},
   "outputs": [
    {
     "data": {
      "text/plain": [
       "6"
      ]
     },
     "execution_count": 54,
     "metadata": {},
     "output_type": "execute_result"
    }
   ],
   "source": [
    "# a non progression add a progression is a new progression\n",
    "node = Component()\n",
    "\n",
    "len(node + p)"
   ]
  },
  {
   "cell_type": "code",
   "execution_count": 55,
   "metadata": {},
   "outputs": [
    {
     "data": {
      "text/plain": [
       "5"
      ]
     },
     "execution_count": 55,
     "metadata": {},
     "output_type": "execute_result"
    }
   ],
   "source": [
    "len(p)"
   ]
  },
  {
   "cell_type": "code",
   "execution_count": 56,
   "metadata": {},
   "outputs": [
    {
     "data": {
      "text/plain": [
       "['ln96a31220-13a371b-dd90-6-1ab6d288',\n",
       " 'ln0a1f3d-6fd-0c28-1e-40ce3265c8f51',\n",
       " 'ln8210392f673-373-d5d-0-39d2c831b2',\n",
       " 'ln9a5213-f-c5d99-4a7b37c8-fea168c2',\n",
       " 'ln4bce61-b5a591-271d01-6-caf830835']"
      ]
     },
     "execution_count": 56,
     "metadata": {},
     "output_type": "execute_result"
    }
   ],
   "source": [
    "list(p)"
   ]
  },
  {
   "cell_type": "code",
   "execution_count": 57,
   "metadata": {},
   "outputs": [
    {
     "data": {
      "text/plain": [
       "{'ln0a1f3d-6fd-0c28-1e-40ce3265c8f51',\n",
       " 'ln4bce61-b5a591-271d01-6-caf830835',\n",
       " 'ln8210392f673-373-d5d-0-39d2c831b2',\n",
       " 'ln96a31220-13a371b-dd90-6-1ab6d288',\n",
       " 'ln9a5213-f-c5d99-4a7b37c8-fea168c2'}"
      ]
     },
     "execution_count": 57,
     "metadata": {},
     "output_type": "execute_result"
    }
   ],
   "source": [
    "set(p)"
   ]
  },
  {
   "cell_type": "code",
   "execution_count": 58,
   "metadata": {},
   "outputs": [
    {
     "data": {
      "text/plain": [
       "('ln96a31220-13a371b-dd90-6-1ab6d288',\n",
       " 'ln0a1f3d-6fd-0c28-1e-40ce3265c8f51',\n",
       " 'ln8210392f673-373-d5d-0-39d2c831b2',\n",
       " 'ln9a5213-f-c5d99-4a7b37c8-fea168c2',\n",
       " 'ln4bce61-b5a591-271d01-6-caf830835')"
      ]
     },
     "execution_count": 58,
     "metadata": {},
     "output_type": "execute_result"
    }
   ],
   "source": [
    "tuple(p)"
   ]
  },
  {
   "cell_type": "code",
   "execution_count": 59,
   "metadata": {},
   "outputs": [
    {
     "data": {
      "text/plain": [
       "deque(['ln96a31220-13a371b-dd90-6-1ab6d288',\n",
       "       'ln0a1f3d-6fd-0c28-1e-40ce3265c8f51',\n",
       "       'ln8210392f673-373-d5d-0-39d2c831b2',\n",
       "       'ln9a5213-f-c5d99-4a7b37c8-fea168c2',\n",
       "       'ln4bce61-b5a591-271d01-6-caf830835'])"
      ]
     },
     "execution_count": 59,
     "metadata": {},
     "output_type": "execute_result"
    }
   ],
   "source": [
    "deque(p)"
   ]
  }
 ],
 "metadata": {
  "kernelspec": {
   "display_name": ".venv",
   "language": "python",
   "name": "python3"
  },
  "language_info": {
   "codemirror_mode": {
    "name": "ipython",
    "version": 3
   },
   "file_extension": ".py",
   "mimetype": "text/x-python",
   "name": "python",
   "nbconvert_exporter": "python",
   "pygments_lexer": "ipython3",
   "version": "3.12.1"
  }
 },
 "nbformat": 4,
 "nbformat_minor": 2
}
